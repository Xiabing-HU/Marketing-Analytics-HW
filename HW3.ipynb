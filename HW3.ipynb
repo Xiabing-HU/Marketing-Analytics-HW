{
 "cells": [
  {
   "cell_type": "markdown",
   "metadata": {},
   "source": [
    "# HW3"
   ]
  },
  {
   "cell_type": "markdown",
   "metadata": {},
   "source": [
    "## Part One"
   ]
  },
  {
   "cell_type": "code",
   "execution_count": 1,
   "metadata": {},
   "outputs": [],
   "source": [
    "import pandas as pd\n",
    "import numpy as np"
   ]
  },
  {
   "cell_type": "code",
   "execution_count": 2,
   "metadata": {},
   "outputs": [
    {
     "name": "stderr",
     "output_type": "stream",
     "text": [
      "<ipython-input-2-bd19e355ec3c>:5: SettingWithCopyWarning: \n",
      "A value is trying to be set on a copy of a slice from a DataFrame\n",
      "\n",
      "See the caveats in the documentation: https://pandas.pydata.org/pandas-docs/stable/user_guide/indexing.html#returning-a-view-versus-a-copy\n",
      "  data['channels'][i] = data.loc[i,'touch1':'touch5'].values.tolist()\n"
     ]
    },
    {
     "name": "stdout",
     "output_type": "stream",
     "text": [
      "       convert_TF    touch1    touch2    touch3    touch4 touch5  tier  \\\n",
      "0            True     email  referral  referral       NaN    NaN     1   \n",
      "1            True  referral  referral     email       NaN    NaN     1   \n",
      "2            True  referral       NaN       NaN       NaN    NaN     1   \n",
      "3            True     email       NaN       NaN       NaN    NaN     1   \n",
      "4            True  referral  referral    social  referral    NaN     1   \n",
      "...           ...       ...       ...       ...       ...    ...   ...   \n",
      "68119       False    direct       NaN       NaN       NaN    NaN     3   \n",
      "68120       False    direct     email  referral       NaN    NaN     3   \n",
      "68121       False    direct  referral       NaN       NaN    NaN     3   \n",
      "68122       False     email    direct       NaN       NaN    NaN     3   \n",
      "68123       False    direct  referral    social       NaN    NaN     3   \n",
      "\n",
      "                                          channels  \n",
      "0            [email, referral, referral, nan, nan]  \n",
      "1            [referral, referral, email, nan, nan]  \n",
      "2                   [referral, nan, nan, nan, nan]  \n",
      "3                      [email, nan, nan, nan, nan]  \n",
      "4      [referral, referral, social, referral, nan]  \n",
      "...                                            ...  \n",
      "68119                 [direct, nan, nan, nan, nan]  \n",
      "68120          [direct, email, referral, nan, nan]  \n",
      "68121            [direct, referral, nan, nan, nan]  \n",
      "68122               [email, direct, nan, nan, nan]  \n",
      "68123         [direct, referral, social, nan, nan]  \n",
      "\n",
      "[68124 rows x 8 columns]\n"
     ]
    }
   ],
   "source": [
    "data = pd.read_csv('attribution_allocation_student_data.csv')\n",
    "data['channels'] = None\n",
    "# Put the different channels into a list\n",
    "for i in range(0,len(data)):\n",
    "    data['channels'][i] = data.loc[i,'touch1':'touch5'].values.tolist()\n",
    "print(data)"
   ]
  },
  {
   "cell_type": "code",
   "execution_count": 3,
   "metadata": {
    "scrolled": false
   },
   "outputs": [
    {
     "data": {
      "text/plain": [
       "0                    [email, referral, referral, nan, nan]\n",
       "1                    [referral, referral, email, nan, nan]\n",
       "2                           [referral, nan, nan, nan, nan]\n",
       "3                              [email, nan, nan, nan, nan]\n",
       "4              [referral, referral, social, referral, nan]\n",
       "                               ...                        \n",
       "60648                  [referral, referral, nan, nan, nan]\n",
       "60649        [referral, referral, referral, referral, nan]\n",
       "68103    [organic_search, referral, referral, referral,...\n",
       "68104                  [referral, referral, nan, nan, nan]\n",
       "68117                    [direct, referral, nan, nan, nan]\n",
       "Name: channels, Length: 13779, dtype: object"
      ]
     },
     "execution_count": 3,
     "metadata": {},
     "output_type": "execute_result"
    }
   ],
   "source": [
    "# Delete not converted customers\n",
    "converted_full = data.loc[data['convert_TF'] == True]\n",
    "converted = converted_full['channels']\n",
    "converted"
   ]
  },
  {
   "cell_type": "markdown",
   "metadata": {},
   "source": [
    "### Last non-direct click"
   ]
  },
  {
   "cell_type": "code",
   "execution_count": 4,
   "metadata": {},
   "outputs": [
    {
     "name": "stdout",
     "output_type": "stream",
     "text": [
      "Count for different channels:\n",
      "social:2948\n",
      "referral:5984\n",
      "email:1517\n",
      "paid_search:1004\n",
      "display:2314\n",
      "\n",
      "Percentages for different channels:\n",
      "social:21.39%\n",
      "referral:43.43%\n",
      "email:11.01%\n",
      "paid_search:7.29%\n",
      "display:16.79%\n"
     ]
    }
   ],
   "source": [
    "social = 0\n",
    "referral = 0\n",
    "email = 0\n",
    "paid_search = 0\n",
    "display = 0\n",
    "\n",
    "total_converted = len(converted)\n",
    "\n",
    "for c in converted:\n",
    "    for i in range(1,6):\n",
    "        try:\n",
    "            np.isnan(c[-i])\n",
    "        except:\n",
    "            if c[-i] != ('direct' or 'organic_search'):\n",
    "                if c[-i] == 'social':\n",
    "                    social += 1\n",
    "                elif c[-i] == 'referral':\n",
    "                    referral += 1\n",
    "                elif c[-i] == 'email':\n",
    "                    email += 1\n",
    "                elif c[-i] == 'paid_search':\n",
    "                    paid_search += 1\n",
    "                elif c[-i] == 'display':\n",
    "                    display += 1\n",
    "                break\n",
    "\n",
    "print('Count for different channels:')\n",
    "print('social:%d\\nreferral:%d\\nemail:%d\\npaid_search:%d\\ndisplay:%d\\n' % (social,referral,email,paid_search,display))\n",
    "print('Percentages for different channels:')\n",
    "print('social:%.2f%%\\nreferral:%.2f%%\\nemail:%.2f%%\\npaid_search:%.2f%%\\ndisplay:%.2f%%' \n",
    "      % (social/total_converted*100,referral/total_converted*100,email/total_converted*100,paid_search/total_converted*100,display/total_converted*100))"
   ]
  },
  {
   "cell_type": "markdown",
   "metadata": {},
   "source": [
    "### Linear Model"
   ]
  },
  {
   "cell_type": "code",
   "execution_count": 5,
   "metadata": {},
   "outputs": [],
   "source": [
    "# Calculate the number of channels(discard NaN)\n",
    "def number_of_channels(list):\n",
    "    count = 0\n",
    "    for l in list:\n",
    "        try:\n",
    "            np.isnan(l)\n",
    "            count += 1\n",
    "        except:\n",
    "            continue\n",
    "    return(5-count)"
   ]
  },
  {
   "cell_type": "code",
   "execution_count": 6,
   "metadata": {},
   "outputs": [
    {
     "name": "stdout",
     "output_type": "stream",
     "text": [
      "Scores for different channels:\n",
      "social:2291.48\n",
      "organic_search:10.83\n",
      "referral:7470.57\n",
      "email:1257.85\n",
      "paid_search:707.98\n",
      "display:2031.33\n",
      "direct:8.95\n",
      "\n"
     ]
    }
   ],
   "source": [
    "social_socre1 = 0\n",
    "organic_search_score1 = 0\n",
    "referral_socre1 = 0\n",
    "email_socre1 = 0\n",
    "paid_search_socre1 = 0\n",
    "display_socre1 = 0\n",
    "direct_score1 = 0\n",
    "\n",
    "for c in converted:\n",
    "    weight = 1/number_of_channels(c)\n",
    "    n = number_of_channels(c)\n",
    "    for i in range(0,n):\n",
    "        if c[i] == 'social':\n",
    "            social_socre1 += weight\n",
    "        elif c[i] == 'organic_search':\n",
    "            organic_search_score1 += weight\n",
    "        elif c[i] == 'referral':\n",
    "            referral_socre1 += weight\n",
    "        elif c[i] == 'email':\n",
    "            email_socre1 += weight\n",
    "        elif c[i] == 'paid_search':\n",
    "            paid_search_socre1 += weight\n",
    "        elif c[i] == 'display':\n",
    "            display_socre1 += weight\n",
    "        elif c[i] == 'direct':\n",
    "            direct_score1 += weight\n",
    "\n",
    "print('Scores for different channels:')\n",
    "print('social:%.2f\\norganic_search:%.2f\\nreferral:%.2f\\nemail:%.2f\\npaid_search:%.2f\\ndisplay:%.2f\\ndirect:%.2f\\n'\n",
    "      % (social_socre1,organic_search_score1,referral_socre1,email_socre1,paid_search_socre1,display_socre1,direct_score1))"
   ]
  },
  {
   "cell_type": "markdown",
   "metadata": {},
   "source": [
    "### Position Based"
   ]
  },
  {
   "cell_type": "code",
   "execution_count": 7,
   "metadata": {},
   "outputs": [],
   "source": [
    "name = ['social', 'organic_search', 'referral', 'email', 'paid_search', 'display', 'direct']\n",
    "count = [0,0,0,0,0,0,0]\n",
    "\n",
    "def channel_index(string):\n",
    "    name = ['social', 'organic_search', 'referral', 'email', 'paid_search', 'display', 'direct']\n",
    "    index = name.index(string)\n",
    "    return index"
   ]
  },
  {
   "cell_type": "code",
   "execution_count": 8,
   "metadata": {},
   "outputs": [
    {
     "name": "stdout",
     "output_type": "stream",
     "text": [
      "Scores for different channels:\n",
      "social:2452.53\n",
      "organic_search:10.40\n",
      "referral:7085.37\n",
      "email:1326.43\n",
      "paid_search:781.93\n",
      "display:2113.53\n",
      "direct:8.80\n",
      "\n"
     ]
    }
   ],
   "source": [
    "for c in converted:\n",
    "    if number_of_channels(c) == 5:\n",
    "        ci = channel_index(c[0])\n",
    "        count[ci] += 0.4\n",
    "        ci = channel_index(c[1])\n",
    "        count[ci] += (0.2/3)\n",
    "        ci = channel_index(c[2])\n",
    "        count[ci] += (0.2/3)\n",
    "        ci = channel_index(c[3])\n",
    "        count[ci] += (0.2/3)\n",
    "        ci = channel_index(c[4])\n",
    "        count[ci] += 0.4\n",
    "    elif number_of_channels(c) == 4:\n",
    "        ci = channel_index(c[0])\n",
    "        count[ci] += 0.4\n",
    "        ci = channel_index(c[1])\n",
    "        count[ci] += 0.1\n",
    "        ci = channel_index(c[2])\n",
    "        count[ci] += 0.1\n",
    "        ci = channel_index(c[3])\n",
    "        count[ci] += 0.4\n",
    "    elif number_of_channels(c) == 3:\n",
    "        ci = channel_index(c[0])\n",
    "        count[ci] += 0.4\n",
    "        ci = channel_index(c[1])\n",
    "        count[ci] += 0.2\n",
    "        ci = channel_index(c[2])\n",
    "        count[ci] += 0.4\n",
    "    elif number_of_channels(c) == 2:\n",
    "        ci = channel_index(c[0])\n",
    "        count[ci] += 0.5\n",
    "        ci = channel_index(c[1])\n",
    "        count[ci] += 0.5\n",
    "    elif number_of_channels(c) == 1:\n",
    "        ci = channel_index(c[0])\n",
    "        count[ci] += 1\n",
    "\n",
    "social_socre2 = count[0]\n",
    "organic_search_score2 = count[1]\n",
    "referral_socre2 = count[2]\n",
    "email_socre2 = count[3]\n",
    "paid_search_socre2 = count[4]\n",
    "display_socre2 = count[5]\n",
    "direct_score2 = count[6]\n",
    "\n",
    "      \n",
    "print('Scores for different channels:')\n",
    "print('social:%.2f\\norganic_search:%.2f\\nreferral:%.2f\\nemail:%.2f\\npaid_search:%.2f\\ndisplay:%.2f\\ndirect:%.2f\\n'\n",
    "      % (social_socre2,organic_search_score2,referral_socre2,email_socre2,paid_search_socre2,display_socre2,direct_score2))"
   ]
  },
  {
   "cell_type": "markdown",
   "metadata": {},
   "source": [
    "### CAC"
   ]
  },
  {
   "cell_type": "code",
   "execution_count": 9,
   "metadata": {},
   "outputs": [],
   "source": [
    "tier1 = converted_full.loc[converted_full['tier'] == 1]['channels']\n",
    "tier2 = converted_full.loc[converted_full['tier'] == 2]['channels']\n",
    "tier3 = converted_full.loc[converted_full['tier'] == 3]['channels']"
   ]
  },
  {
   "cell_type": "code",
   "execution_count": 10,
   "metadata": {},
   "outputs": [],
   "source": [
    "# Calculate the number of channels(discard NaN)\n",
    "def number_of_channels(list):\n",
    "    count = 0\n",
    "    for l in list:\n",
    "        try:\n",
    "            np.isnan(l)\n",
    "            count += 1\n",
    "        except:\n",
    "            continue\n",
    "    return(5-count)"
   ]
  },
  {
   "cell_type": "code",
   "execution_count": 11,
   "metadata": {},
   "outputs": [],
   "source": [
    "name = ['social', 'organic_search', 'referral', 'email', 'paid_search', 'display', 'direct']\n",
    "count = [0,0,0,0,0,0,0]\n",
    "\n",
    "def channel_index(string):\n",
    "    name = ['social', 'organic_search', 'referral', 'email', 'paid_search', 'display', 'direct']\n",
    "    index = name.index(string)\n",
    "    return index\n"
   ]
  },
  {
   "cell_type": "markdown",
   "metadata": {},
   "source": [
    "#### Tier 1"
   ]
  },
  {
   "cell_type": "code",
   "execution_count": 12,
   "metadata": {
    "scrolled": true
   },
   "outputs": [
    {
     "name": "stdout",
     "output_type": "stream",
     "text": [
      "[1320, 9, 4584, 678, 349, 1292, 4]\n",
      "CAC for different channels in Tier 1:\n",
      "social:0.76\n",
      "organic_search:0.00\n",
      "referral:0.22\n",
      "email:1.47\n",
      "paid_search:2.87\n",
      "display:0.77\n",
      "direct:0.00\n",
      "\n"
     ]
    }
   ],
   "source": [
    "count1 = [0,0,0,0,0,0,0]\n",
    "\n",
    "for c in tier1:\n",
    "    if number_of_channels(c) == 5:\n",
    "        ci = channel_index(c[0])\n",
    "        count1[ci] += 1\n",
    "        ci = channel_index(c[1])\n",
    "        count1[ci] += 1\n",
    "        ci = channel_index(c[2])\n",
    "        count1[ci] += 1\n",
    "        ci = channel_index(c[3])\n",
    "        count1[ci] += 1\n",
    "        ci = channel_index(c[4])\n",
    "        count1[ci] += 1\n",
    "    elif number_of_channels(c) == 4:\n",
    "        ci = channel_index(c[0])\n",
    "        count1[ci] += 1\n",
    "        ci = channel_index(c[1])\n",
    "        count1[ci] += 1\n",
    "        ci = channel_index(c[2])\n",
    "        count1[ci] += 1\n",
    "        ci = channel_index(c[3])\n",
    "        count1[ci] += 1\n",
    "    elif number_of_channels(c) == 3:\n",
    "        ci = channel_index(c[0])\n",
    "        count1[ci] += 1\n",
    "        ci = channel_index(c[1])\n",
    "        count1[ci] += 1\n",
    "        ci = channel_index(c[2])\n",
    "        count1[ci] += 1\n",
    "    elif number_of_channels(c) == 2:\n",
    "        ci = channel_index(c[0])\n",
    "        count1[ci] += 1\n",
    "        ci = channel_index(c[1])\n",
    "        count1[ci] += 1\n",
    "    elif number_of_channels(c) == 1:\n",
    "        ci = channel_index(c[0])\n",
    "        count1[ci] += 1\n",
    "\n",
    "spend1 = 1000        \n",
    "\n",
    "CAC_social1 = spend1/count1[0]\n",
    "CAC_organic_search1 = 0\n",
    "CAC_referral1 = spend1/count1[2]\n",
    "CAC_email1 = spend1/count1[3]\n",
    "CAC_paid_search1 = spend1/count1[4]\n",
    "CAC_display1 = spend1/count1[5]\n",
    "CAC_direct1 = 0\n",
    "\n",
    "print(count1)      \n",
    "print('CAC for different channels in Tier 1:')\n",
    "print('social:%.2f\\norganic_search:%.2f\\nreferral:%.2f\\nemail:%.2f\\npaid_search:%.2f\\ndisplay:%.2f\\ndirect:%.2f\\n'\n",
    "      % (CAC_social1,CAC_organic_search1,CAC_referral1,CAC_email1,CAC_paid_search1,CAC_display1,CAC_direct1))"
   ]
  },
  {
   "cell_type": "markdown",
   "metadata": {},
   "source": [
    "#### Tier 2"
   ]
  },
  {
   "cell_type": "code",
   "execution_count": 13,
   "metadata": {},
   "outputs": [
    {
     "name": "stdout",
     "output_type": "stream",
     "text": [
      "[2263, 11, 8220, 1182, 649, 2014, 4]\n",
      "CAC for different channels in Tier 2:\n",
      "social:0.88\n",
      "organic_search:0.00\n",
      "referral:0.24\n",
      "email:1.69\n",
      "paid_search:3.08\n",
      "display:0.99\n",
      "direct:0.00\n",
      "\n"
     ]
    }
   ],
   "source": [
    "count2 = [0,0,0,0,0,0,0]\n",
    "for c in tier2:\n",
    "    if number_of_channels(c) == 5:\n",
    "        ci = channel_index(c[0])\n",
    "        count2[ci] += 1\n",
    "        ci = channel_index(c[1])\n",
    "        count2[ci] += 1\n",
    "        ci = channel_index(c[2])\n",
    "        count2[ci] += 1\n",
    "        ci = channel_index(c[3])\n",
    "        count2[ci] += 1\n",
    "        ci = channel_index(c[4])\n",
    "        count2[ci] += 1\n",
    "    elif number_of_channels(c) == 4:\n",
    "        ci = channel_index(c[0])\n",
    "        count2[ci] += 1\n",
    "        ci = channel_index(c[1])\n",
    "        count2[ci] += 1\n",
    "        ci = channel_index(c[2])\n",
    "        count2[ci] += 1\n",
    "        ci = channel_index(c[3])\n",
    "        count2[ci] += 1\n",
    "    elif number_of_channels(c) == 3:\n",
    "        ci = channel_index(c[0])\n",
    "        count2[ci] += 1\n",
    "        ci = channel_index(c[1])\n",
    "        count2[ci] += 1\n",
    "        ci = channel_index(c[2])\n",
    "        count2[ci] += 1\n",
    "    elif number_of_channels(c) == 2:\n",
    "        ci = channel_index(c[0])\n",
    "        count2[ci] += 1\n",
    "        ci = channel_index(c[1])\n",
    "        count2[ci] += 1\n",
    "    elif number_of_channels(c) == 1:\n",
    "        ci = channel_index(c[0])\n",
    "        count2[ci] += 1\n",
    "\n",
    "spend2 = 2000        \n",
    "\n",
    "CAC_social2 = spend2/count2[0]\n",
    "CAC_organic_search2 = 0\n",
    "CAC_referral2 = spend2/count2[2]\n",
    "CAC_email2 = spend2/count2[3]\n",
    "CAC_paid_search2 = spend2/count2[4]\n",
    "CAC_display2 = spend2/count2[5]\n",
    "CAC_direct2 = 0\n",
    "\n",
    "print(count2)      \n",
    "print('CAC for different channels in Tier 2:')\n",
    "print('social:%.2f\\norganic_search:%.2f\\nreferral:%.2f\\nemail:%.2f\\npaid_search:%.2f\\ndisplay:%.2f\\ndirect:%.2f\\n'\n",
    "      % (CAC_social2,CAC_organic_search2,CAC_referral2,CAC_email2,CAC_paid_search2,CAC_display2,CAC_direct2))"
   ]
  },
  {
   "cell_type": "markdown",
   "metadata": {},
   "source": [
    "#### Tier 3"
   ]
  },
  {
   "cell_type": "code",
   "execution_count": 14,
   "metadata": {},
   "outputs": [
    {
     "name": "stdout",
     "output_type": "stream",
     "text": [
      "[2738, 17, 9939, 1617, 875, 2420, 14]\n",
      "CAC for different channels in Tier 3:\n",
      "social:1.10\n",
      "organic_search:0.00\n",
      "referral:0.30\n",
      "email:1.86\n",
      "paid_search:3.43\n",
      "display:1.24\n",
      "direct:0.00\n",
      "\n"
     ]
    }
   ],
   "source": [
    "count3 = [0,0,0,0,0,0,0]\n",
    "for c in tier3:\n",
    "    if number_of_channels(c) == 5:\n",
    "        ci = channel_index(c[0])\n",
    "        count3[ci] += 1\n",
    "        ci = channel_index(c[1])\n",
    "        count3[ci] += 1\n",
    "        ci = channel_index(c[2])\n",
    "        count3[ci] += 1\n",
    "        ci = channel_index(c[3])\n",
    "        count3[ci] += 1\n",
    "        ci = channel_index(c[4])\n",
    "        count3[ci] += 1\n",
    "    elif number_of_channels(c) == 4:\n",
    "        ci = channel_index(c[0])\n",
    "        count3[ci] += 1\n",
    "        ci = channel_index(c[1])\n",
    "        count3[ci] += 1\n",
    "        ci = channel_index(c[2])\n",
    "        count3[ci] += 1\n",
    "        ci = channel_index(c[3])\n",
    "        count3[ci] += 1\n",
    "    elif number_of_channels(c) == 3:\n",
    "        ci = channel_index(c[0])\n",
    "        count3[ci] += 1\n",
    "        ci = channel_index(c[1])\n",
    "        count3[ci] += 1\n",
    "        ci = channel_index(c[2])\n",
    "        count3[ci] += 1\n",
    "    elif number_of_channels(c) == 2:\n",
    "        ci = channel_index(c[0])\n",
    "        count3[ci] += 1\n",
    "        ci = channel_index(c[1])\n",
    "        count3[ci] += 1\n",
    "    elif number_of_channels(c) == 1:\n",
    "        ci = channel_index(c[0])\n",
    "        count3[ci] += 1\n",
    "\n",
    "spend3 = 3000        \n",
    "\n",
    "CAC_social3 = spend3/count3[0]\n",
    "CAC_organic_search3 = 0\n",
    "CAC_referral3 = spend3/count3[2]\n",
    "CAC_email3 = spend3/count3[3]\n",
    "CAC_paid_search3 = spend3/count3[4]\n",
    "CAC_display3 = spend3/count3[5]\n",
    "CAC_direct3 = 0\n",
    "\n",
    "print(count3)      \n",
    "print('CAC for different channels in Tier 3:')\n",
    "print('social:%.2f\\norganic_search:%.2f\\nreferral:%.2f\\nemail:%.2f\\npaid_search:%.2f\\ndisplay:%.2f\\ndirect:%.2f\\n'\n",
    "      % (CAC_social3,CAC_organic_search3,CAC_referral3,CAC_email3,CAC_paid_search3,CAC_display3,CAC_direct3))"
   ]
  },
  {
   "cell_type": "code",
   "execution_count": 25,
   "metadata": {},
   "outputs": [
    {
     "name": "stdout",
     "output_type": "stream",
     "text": [
      "[6321, 37, 22743, 3477, 1873, 5726, 22]\n"
     ]
    }
   ],
   "source": [
    "count_all = [count1[i]+count2[i]+count3[i] for i in range(0,len(count1))]\n",
    "print(count_all)"
   ]
  },
  {
   "cell_type": "code",
   "execution_count": 29,
   "metadata": {},
   "outputs": [
    {
     "data": {
      "text/plain": [
       "[0.9492168960607499,\n",
       " 0,\n",
       " 0.2638174383326738,\n",
       " 1.7256255392579811,\n",
       " 3.203416978109984,\n",
       " 1.0478519035976248,\n",
       " 0]"
      ]
     },
     "execution_count": 29,
     "metadata": {},
     "output_type": "execute_result"
    }
   ],
   "source": [
    "CAC_average = [0,0,0,0,0,0,0]\n",
    "all_spend = (spend1+spend2+spend3)\n",
    "for i in [0,2,3,4,5]:\n",
    "    CAC_average[i] = all_spend/(count1[i]+ count2[i]+ count3[i])\n",
    "CAC_average"
   ]
  },
  {
   "cell_type": "markdown",
   "metadata": {},
   "source": [
    "### Observations"
   ]
  },
  {
   "cell_type": "markdown",
   "metadata": {},
   "source": [
    "|    | spend | social | organic_search | referral | email | paid_search | display | direct |\n",
    "|:-----:|:----:|:----------:|:----------:|:----------:|:----------:|:----------:|:----------:|:----------:|\n",
    "| Tier 1 | 1000 | 0.76 | 0 | 0.22 | 1.47 | 2.87 | 0.77 | 0 |\n",
    "| Tier 2 | 2000 | 0.88 | 0 | 0.24 | 1.69 | 3.08 | 0.99 | 0 |\n",
    "| Tier 3 | 3000 | 1.10 | 0 | 0.30 | 1.86 | 3.43 | 1.24 | 0 |\n",
    "| Average |     | 0.95 | 0 | 0.26 | 1.73 | 3.20 | 1.05 | 0 |"
   ]
  },
  {
   "cell_type": "markdown",
   "metadata": {},
   "source": [
    "1. Paid search is the most expensive channel.\n",
    "2. Referral is the least expensive channel.\n",
    "3. When the channels are fixed, the more you spend, the higher CAC you will get."
   ]
  },
  {
   "cell_type": "markdown",
   "metadata": {},
   "source": [
    "## Part Two"
   ]
  },
  {
   "cell_type": "markdown",
   "metadata": {},
   "source": [
    "### Marginal CAC Calculation"
   ]
  },
  {
   "cell_type": "code",
   "execution_count": 83,
   "metadata": {},
   "outputs": [
    {
     "name": "stdout",
     "output_type": "stream",
     "text": [
      "Marginal CAC for Social Channel:\n",
      "marginal_social1: 0.76\n",
      "marginal_social2: 1.06\n",
      "marginal_social3: 2.11\n",
      "\n"
     ]
    }
   ],
   "source": [
    "marginal_social1 = 1000/(count1[0])\n",
    "marginal_social2 = 1000/(count2[0]-count1[0])\n",
    "marginal_social3 = 1000/(count3[0]-count2[0])\n",
    "print('Marginal CAC for Social Channel:')\n",
    "print('marginal_social1: %.2f\\nmarginal_social2: %.2f\\nmarginal_social3: %.2f\\n' \n",
    "      % (marginal_social1,marginal_social2,marginal_social3))"
   ]
  },
  {
   "cell_type": "code",
   "execution_count": 84,
   "metadata": {},
   "outputs": [
    {
     "name": "stdout",
     "output_type": "stream",
     "text": [
      "Marginal CAC for Referral Channel:\n",
      "marginal_referral1: 0.22\n",
      "marginal_referral2: 0.28\n",
      "marginal_referral3: 0.58\n",
      "\n"
     ]
    }
   ],
   "source": [
    "marginal_referral1 = 1000/(count1[2])\n",
    "marginal_referral2 = 1000/(count2[2]-count1[2])\n",
    "marginal_referral3 = 1000/(count3[2]-count2[2])\n",
    "print('Marginal CAC for Referral Channel:')\n",
    "print('marginal_referral1: %.2f\\nmarginal_referral2: %.2f\\nmarginal_referral3: %.2f\\n' \n",
    "      % (marginal_referral1,marginal_referral2,marginal_referral3))"
   ]
  },
  {
   "cell_type": "code",
   "execution_count": 85,
   "metadata": {},
   "outputs": [
    {
     "name": "stdout",
     "output_type": "stream",
     "text": [
      "Marginal CAC for Email Channel:\n",
      "marginal_email1: 1.47\n",
      "marginal_email2: 1.98\n",
      "marginal_email3: 2.30\n",
      "\n"
     ]
    }
   ],
   "source": [
    "marginal_email1 = 1000/(count1[3])\n",
    "marginal_email2 = 1000/(count2[3]-count1[3])\n",
    "marginal_email3 = 1000/(count3[3]-count2[3])\n",
    "print('Marginal CAC for Email Channel:')\n",
    "print('marginal_email1: %.2f\\nmarginal_email2: %.2f\\nmarginal_email3: %.2f\\n' \n",
    "      % (marginal_email1,marginal_email2,marginal_email3))"
   ]
  },
  {
   "cell_type": "code",
   "execution_count": 87,
   "metadata": {},
   "outputs": [
    {
     "name": "stdout",
     "output_type": "stream",
     "text": [
      "Marginal CAC for Paid-Search Channel:\n",
      "marginal_paid_search1: 2.87\n",
      "marginal_paid_search2: 3.33\n",
      "marginal_paid_search3: 4.42\n",
      "\n"
     ]
    }
   ],
   "source": [
    "marginal_paid_search1 = 1000/(count1[4])\n",
    "marginal_paid_search2 = 1000/(count2[4]-count1[4])\n",
    "marginal_paid_search3 = 1000/(count3[4]-count2[4])\n",
    "print('Marginal CAC for Paid-Search Channel:')\n",
    "print('marginal_paid_search1: %.2f\\nmarginal_paid_search2: %.2f\\nmarginal_paid_search3: %.2f\\n' \n",
    "      % (marginal_paid_search1,marginal_paid_search2,marginal_paid_search3))"
   ]
  },
  {
   "cell_type": "code",
   "execution_count": 88,
   "metadata": {},
   "outputs": [
    {
     "name": "stdout",
     "output_type": "stream",
     "text": [
      "Marginal CAC for Display Channel:\n",
      "marginal_paid_display1: 0.77\n",
      "marginal_paid_display2: 1.39\n",
      "marginal_paid_display3: 2.46\n",
      "\n"
     ]
    }
   ],
   "source": [
    "marginal_paid_display1 = 1000/(count1[5])\n",
    "marginal_paid_display2 = 1000/(count2[5]-count1[5])\n",
    "marginal_paid_display3 = 1000/(count3[5]-count2[5])\n",
    "print('Marginal CAC for Display Channel:')\n",
    "print('marginal_paid_display1: %.2f\\nmarginal_paid_display2: %.2f\\nmarginal_paid_display3: %.2f\\n' \n",
    "      % (marginal_paid_display1,marginal_paid_display2,marginal_paid_display3))"
   ]
  },
  {
   "cell_type": "markdown",
   "metadata": {},
   "source": [
    "|    | marginal spend | social | referral | email | paid_search | display |\n",
    "|:-----:|:----:|:----------:|:----------:|:----------:|:----------:|:----------:|\n",
    "| Tier 1 | 1000 | 0.76 | 0.22 | 1.47 | 2.87 | 0.77 |\n",
    "| Tier 2 | 1000 | 1.06 | 0.28 | 1.98 | 3.33 | 1.39 |\n",
    "| Tier 3 | 1000 | 2.11 | 0.58 | 2.30 | 4.42 | 2.46 |"
   ]
  },
  {
   "cell_type": "markdown",
   "metadata": {},
   "source": [
    "### How to spend the budget - Position Based Method"
   ]
  },
  {
   "attachments": {
    "image.png": {
     "image/png": "[encoded data removed]"
    }
   },
   "cell_type": "markdown",
   "metadata": {},
   "source": [
    "![image.png](attachment:image.png)"
   ]
  },
  {
   "cell_type": "markdown",
   "metadata": {},
   "source": [
    "Based on the Position Based method, we conclude that Social and Referral Channnels with the highest contribution weight should have priority in budget spending."
   ]
  },
  {
   "cell_type": "markdown",
   "metadata": {},
   "source": [
    "Also, using the strategy we learnt in class, we came to the conclusion that we should spend 3000 dollars on Social Channel, 3000 dollars on Referral Channel, 3000 dollars on Email Channel, and 2000 dollars on Display Channel. Which also satisfied the Position Based Method to choose."
   ]
  },
  {
   "cell_type": "code",
   "execution_count": null,
   "metadata": {},
   "outputs": [],
   "source": []
  }
 ],
 "metadata": {
  "kernelspec": {
   "display_name": "Python 3",
   "language": "python",
   "name": "python3"
  },
  "language_info": {
   "codemirror_mode": {
    "name": "ipython",
    "version": 3
   },
   "file_extension": ".py",
   "mimetype": "text/x-python",
   "name": "python",
   "nbconvert_exporter": "python",
   "pygments_lexer": "ipython3",
   "version": "3.8.2"
  },
  "toc": {
   "base_numbering": 1,
   "nav_menu": {},
   "number_sections": true,
   "sideBar": true,
   "skip_h1_title": false,
   "title_cell": "Table of Contents",
   "title_sidebar": "Contents",
   "toc_cell": false,
   "toc_position": {},
   "toc_section_display": true,
   "toc_window_display": false
  },
  "varInspector": {
   "cols": {
    "lenName": 16,
    "lenType": 16,
    "lenVar": 40
   },
   "kernels_config": {
    "python": {
     "delete_cmd_postfix": "",
     "delete_cmd_prefix": "del ",
     "library": "var_list.py",
     "varRefreshCmd": "print(var_dic_list())"
    },
    "r": {
     "delete_cmd_postfix": ") ",
     "delete_cmd_prefix": "rm(",
     "library": "var_list.r",
     "varRefreshCmd": "cat(var_dic_list()) "
    }
   },
   "types_to_exclude": [
    "module",
    "function",
    "builtin_function_or_method",
    "instance",
    "_Feature"
   ],
   "window_display": false
  }
 },
 "nbformat": 4,
 "nbformat_minor": 4
}
